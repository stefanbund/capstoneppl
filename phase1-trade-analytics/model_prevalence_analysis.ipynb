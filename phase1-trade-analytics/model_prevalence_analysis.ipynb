{
 "cells": [
  {
   "cell_type": "code",
   "execution_count": 1,
   "metadata": {},
   "outputs": [],
   "source": [
    "import os\n",
    "import pandas as pd"
   ]
  },
  {
   "cell_type": "code",
   "execution_count": 7,
   "metadata": {},
   "outputs": [
    {
     "name": "stdout",
     "output_type": "stream",
     "text": [
      "['KNeighborsClassifier' 'LogisticRegression']\n"
     ]
    }
   ],
   "source": [
    "\n",
    "\n",
    "# Initialize an empty DataFrame to store the scores\n",
    "scores = []  #pd.DataFrame()\n",
    "\n",
    "# Define the root directory\n",
    "root_dir = '/home/stefan/Desktop/raddisco-github-repo/radDisco-recon/cell-2024/MODEL'\n",
    "\n",
    "# Iterate over the directories and files\n",
    "for subdir, dirs, files in os.walk(root_dir):\n",
    "    for file in files:\n",
    "        if file.endswith('.csv'):\n",
    "            # Construct the full file path\n",
    "            file_path = os.path.join(subdir, file)\n",
    "            # Read the CSV file into a DataFrame\n",
    "            df = pd.read_csv(file_path)\n",
    "            # print(df.columns)\n",
    "            # Select the row with the maximum 'accuracy'\n",
    "            max = df.loc[df['accuracy'].idxmax()]\n",
    "            dict = {\"classifier\":max['classifier'] }\n",
    "            scores.append(dict)\n",
    "            # # Append the row to the 'scores' DataFrame\n",
    "            # scores = scores.append(max_accuracy_row, ignore_index=True)\n",
    "\n",
    "# Determine the most prevalent 'model'\n",
    "# most_prevalent_model = scores['classifier'].mode()[0]\n",
    "mpm = pd.DataFrame(scores)\n",
    "print(mpm['classifier'].unique())\n",
    "\n",
    "# Display the most prevalent model\n",
    "# print(f\"The most prevalent model is: {most_prevalent_model}\")\n"
   ]
  },
  {
   "cell_type": "code",
   "execution_count": 9,
   "metadata": {},
   "outputs": [
    {
     "name": "stdout",
     "output_type": "stream",
     "text": [
      "classifier\n",
      "KNeighborsClassifier    3013\n",
      "LogisticRegression         3\n",
      "Name: count, dtype: int64\n"
     ]
    }
   ],
   "source": [
    "# Assuming 'mpm' is your DataFrame and 'classifier' is the column of interest\n",
    "distribution = mpm['classifier'].value_counts()\n",
    "print(distribution)\n"
   ]
  },
  {
   "cell_type": "code",
   "execution_count": 10,
   "metadata": {},
   "outputs": [
    {
     "name": "stdout",
     "output_type": "stream",
     "text": [
      "classifier\n",
      "KNeighborsClassifier    0.999005\n",
      "LogisticRegression      0.000995\n",
      "Name: proportion, dtype: float64\n"
     ]
    }
   ],
   "source": [
    "# To see the distribution as percentages\n",
    "distribution_percentage = mpm['classifier'].value_counts(normalize=True)\n",
    "print(distribution_percentage)\n"
   ]
  }
 ],
 "metadata": {
  "kernelspec": {
   "display_name": "Python 3",
   "language": "python",
   "name": "python3"
  },
  "language_info": {
   "codemirror_mode": {
    "name": "ipython",
    "version": 3
   },
   "file_extension": ".py",
   "mimetype": "text/x-python",
   "name": "python",
   "nbconvert_exporter": "python",
   "pygments_lexer": "ipython3",
   "version": "3.10.12"
  }
 },
 "nbformat": 4,
 "nbformat_minor": 2
}
